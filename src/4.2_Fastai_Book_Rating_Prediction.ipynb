{
 "cells": [
  {
   "cell_type": "markdown",
   "metadata": {
    "id": "xKeacUXFgmC1"
   },
   "source": [
    "# Import libraries"
   ]
  },
  {
   "cell_type": "code",
   "execution_count": 143,
   "metadata": {
    "executionInfo": {
     "elapsed": 1105,
     "status": "ok",
     "timestamp": 1619073883776,
     "user": {
      "displayName": "Sudha Arulmani",
      "photoUrl": "https://lh3.googleusercontent.com/a-/AOh14GhmEq56Sys_hPq7SL1T-PCfBrLQ2STecB40OsxN=s64",
      "userId": "11629712198186904901"
     },
     "user_tz": 420
    },
    "id": "rHZUDSs3Lof4"
   },
   "outputs": [],
   "source": [
    "# For modeling\n",
    "from fastai.tabular import *\n",
    "from fastai.collab import *\n",
    "\n",
    "# For visualization\n",
    "import seaborn as sns\n",
    "from matplotlib import pyplot as plt \n",
    "\n",
    "# For working with data\n",
    "import pandas as pd\n",
    "import numpy as np"
   ]
  },
  {
   "cell_type": "markdown",
   "metadata": {
    "id": "OYrpY7IEgqCq"
   },
   "source": [
    "# Load data"
   ]
  },
  {
   "cell_type": "markdown",
   "metadata": {
    "id": "Ts7oO4Z6gsos"
   },
   "source": [
    "## Mount drive\n",
    "**Note:** Can be commented if run locally"
   ]
  },
  {
   "cell_type": "code",
   "execution_count": null,
   "metadata": {
    "id": "BZgp2pcTgqYF"
   },
   "outputs": [],
   "source": [
    "# from google.colab import drive\n",
    "# drive.mount('/content/drive')"
   ]
  },
  {
   "cell_type": "code",
   "execution_count": 144,
   "metadata": {
    "colab": {
     "base_uri": "https://localhost:8080/"
    },
    "executionInfo": {
     "elapsed": 383,
     "status": "ok",
     "timestamp": 1619073884083,
     "user": {
      "displayName": "Sudha Arulmani",
      "photoUrl": "https://lh3.googleusercontent.com/a-/AOh14GhmEq56Sys_hPq7SL1T-PCfBrLQ2STecB40OsxN=s64",
      "userId": "11629712198186904901"
     },
     "user_tz": 420
    },
    "id": "-IkJSqgqL84O",
    "outputId": "2a51ac0e-2bb0-4a92-93e2-b69191c0802e"
   },
   "outputs": [
    {
     "name": "stdout",
     "output_type": "stream",
     "text": [
      "/content/drive/MyDrive/CMPE_256-Prg_Ass1_014749488\n"
     ]
    }
   ],
   "source": [
    "# cd '/content/drive/MyDrive/CMPE_256-Prg_Ass1_014749488'"
   ]
  },
  {
   "cell_type": "code",
   "execution_count": 145,
   "metadata": {
    "colab": {
     "base_uri": "https://localhost:8080/",
     "height": 204
    },
    "executionInfo": {
     "elapsed": 1772,
     "status": "ok",
     "timestamp": 1619073886311,
     "user": {
      "displayName": "Sudha Arulmani",
      "photoUrl": "https://lh3.googleusercontent.com/a-/AOh14GhmEq56Sys_hPq7SL1T-PCfBrLQ2STecB40OsxN=s64",
      "userId": "11629712198186904901"
     },
     "user_tz": 420
    },
    "id": "WZwbnRnXhJ0C",
    "outputId": "418d36c9-c191-4b0c-add9-0ccbfabbecd0"
   },
   "outputs": [
    {
     "data": {
      "text/html": [
       "<div>\n",
       "<style scoped>\n",
       "    .dataframe tbody tr th:only-of-type {\n",
       "        vertical-align: middle;\n",
       "    }\n",
       "\n",
       "    .dataframe tbody tr th {\n",
       "        vertical-align: top;\n",
       "    }\n",
       "\n",
       "    .dataframe thead th {\n",
       "        text-align: right;\n",
       "    }\n",
       "</style>\n",
       "<table border=\"1\" class=\"dataframe\">\n",
       "  <thead>\n",
       "    <tr style=\"text-align: right;\">\n",
       "      <th></th>\n",
       "      <th>user_id</th>\n",
       "      <th>book_id</th>\n",
       "      <th>rating</th>\n",
       "    </tr>\n",
       "  </thead>\n",
       "  <tbody>\n",
       "    <tr>\n",
       "      <th>380272</th>\n",
       "      <td>12523</td>\n",
       "      <td>759611</td>\n",
       "      <td>5</td>\n",
       "    </tr>\n",
       "    <tr>\n",
       "      <th>577850</th>\n",
       "      <td>3517</td>\n",
       "      <td>157993</td>\n",
       "      <td>0</td>\n",
       "    </tr>\n",
       "    <tr>\n",
       "      <th>324128</th>\n",
       "      <td>34728</td>\n",
       "      <td>268565</td>\n",
       "      <td>3</td>\n",
       "    </tr>\n",
       "    <tr>\n",
       "      <th>59526</th>\n",
       "      <td>23954</td>\n",
       "      <td>15938466</td>\n",
       "      <td>3</td>\n",
       "    </tr>\n",
       "    <tr>\n",
       "      <th>557092</th>\n",
       "      <td>13401</td>\n",
       "      <td>10508431</td>\n",
       "      <td>0</td>\n",
       "    </tr>\n",
       "  </tbody>\n",
       "</table>\n",
       "</div>"
      ],
      "text/plain": [
       "        user_id   book_id  rating\n",
       "380272    12523    759611       5\n",
       "577850     3517    157993       0\n",
       "324128    34728    268565       3\n",
       "59526     23954  15938466       3\n",
       "557092    13401  10508431       0"
      ]
     },
     "execution_count": 145,
     "metadata": {
      "tags": []
     },
     "output_type": "execute_result"
    }
   ],
   "source": [
    "data_reduced = pd.read_csv('input/train.csv', delimiter='\\t')\n",
    "data_reduced.sample(5)"
   ]
  },
  {
   "cell_type": "markdown",
   "metadata": {
    "id": "Jv_vqAxWg1fq"
   },
   "source": [
    "# Configure Fastai data"
   ]
  },
  {
   "cell_type": "code",
   "execution_count": 146,
   "metadata": {
    "executionInfo": {
     "elapsed": 1061,
     "status": "ok",
     "timestamp": 1619073890547,
     "user": {
      "displayName": "Sudha Arulmani",
      "photoUrl": "https://lh3.googleusercontent.com/a-/AOh14GhmEq56Sys_hPq7SL1T-PCfBrLQ2STecB40OsxN=s64",
      "userId": "11629712198186904901"
     },
     "user_tz": 420
    },
    "id": "z4P31PxPPjzX"
   },
   "outputs": [],
   "source": [
    "data_collab = CollabDataBunch.from_df(data_reduced, seed=42, user_name='user_id', item_name='book_id', rating_name='rating')"
   ]
  },
  {
   "cell_type": "code",
   "execution_count": 147,
   "metadata": {
    "executionInfo": {
     "elapsed": 966,
     "status": "ok",
     "timestamp": 1619073892328,
     "user": {
      "displayName": "Sudha Arulmani",
      "photoUrl": "https://lh3.googleusercontent.com/a-/AOh14GhmEq56Sys_hPq7SL1T-PCfBrLQ2STecB40OsxN=s64",
      "userId": "11629712198186904901"
     },
     "user_tz": 420
    },
    "id": "aVOO_BTWP41t"
   },
   "outputs": [],
   "source": [
    "learn = collab_learner(data_collab, n_factors=40, y_range=(0, 5), wd=1e-1)"
   ]
  },
  {
   "cell_type": "markdown",
   "metadata": {
    "id": "xs5Wj3YYg53K"
   },
   "source": [
    "# Identify optimal learning rate"
   ]
  },
  {
   "cell_type": "code",
   "execution_count": 148,
   "metadata": {
    "colab": {
     "base_uri": "https://localhost:8080/",
     "height": 282
    },
    "executionInfo": {
     "elapsed": 1991,
     "status": "ok",
     "timestamp": 1619073893917,
     "user": {
      "displayName": "Sudha Arulmani",
      "photoUrl": "https://lh3.googleusercontent.com/a-/AOh14GhmEq56Sys_hPq7SL1T-PCfBrLQ2STecB40OsxN=s64",
      "userId": "11629712198186904901"
     },
     "user_tz": 420
    },
    "id": "EqMRUFd4RIHm",
    "outputId": "21143ef6-4a93-46f2-aff4-45d99e3c60ed"
   },
   "outputs": [
    {
     "data": {
      "text/html": [
       "\n",
       "    <div>\n",
       "        <style>\n",
       "            /* Turns off some styling */\n",
       "            progress {\n",
       "                /* gets rid of default border in Firefox and Opera. */\n",
       "                border: none;\n",
       "                /* Needs to be in here for Safari polyfill so background images work as expected. */\n",
       "                background-size: auto;\n",
       "            }\n",
       "            .progress-bar-interrupted, .progress-bar-interrupted::-webkit-progress-bar {\n",
       "                background: #F44336;\n",
       "            }\n",
       "        </style>\n",
       "      <progress value='0' class='' max='1' style='width:300px; height:20px; vertical-align: middle;'></progress>\n",
       "      0.00% [0/1 00:00<00:00]\n",
       "    </div>\n",
       "    \n",
       "<table border=\"1\" class=\"dataframe\">\n",
       "  <thead>\n",
       "    <tr style=\"text-align: left;\">\n",
       "      <th>epoch</th>\n",
       "      <th>train_loss</th>\n",
       "      <th>valid_loss</th>\n",
       "      <th>time</th>\n",
       "    </tr>\n",
       "  </thead>\n",
       "  <tbody>\n",
       "  </tbody>\n",
       "</table><p>\n",
       "\n",
       "    <div>\n",
       "        <style>\n",
       "            /* Turns off some styling */\n",
       "            progress {\n",
       "                /* gets rid of default border in Firefox and Opera. */\n",
       "                border: none;\n",
       "                /* Needs to be in here for Safari polyfill so background images work as expected. */\n",
       "                background-size: auto;\n",
       "            }\n",
       "            .progress-bar-interrupted, .progress-bar-interrupted::-webkit-progress-bar {\n",
       "                background: #F44336;\n",
       "            }\n",
       "        </style>\n",
       "      <progress value='81' class='' max='8750' style='width:300px; height:20px; vertical-align: middle;'></progress>\n",
       "      0.93% [81/8750 00:00<01:13 4.1539]\n",
       "    </div>\n",
       "    "
      ],
      "text/plain": [
       "<IPython.core.display.HTML object>"
      ]
     },
     "metadata": {
      "tags": []
     },
     "output_type": "display_data"
    },
    {
     "name": "stdout",
     "output_type": "stream",
     "text": [
      "LR Finder is complete, type {learner_name}.recorder.plot() to see the graph.\n"
     ]
    },
    {
     "name": "stderr",
     "output_type": "stream",
     "text": [
      "Traceback (most recent call last):\n",
      "  File \"/usr/lib/python3.7/multiprocessing/queues.py\", line 242, in _feed\n",
      "    send_bytes(obj)\n",
      "  File \"/usr/lib/python3.7/multiprocessing/connection.py\", line 200, in send_bytes\n",
      "    self._send_bytes(m[offset:offset + size])\n",
      "  File \"/usr/lib/python3.7/multiprocessing/connection.py\", line 404, in _send_bytes\n",
      "    self._send(header + buf)\n",
      "  File \"/usr/lib/python3.7/multiprocessing/connection.py\", line 368, in _send\n",
      "    n = write(self._handle, buf)\n",
      "BrokenPipeError: [Errno 32] Broken pipe\n"
     ]
    }
   ],
   "source": [
    "learn.lr_find()"
   ]
  },
  {
   "cell_type": "code",
   "execution_count": 149,
   "metadata": {
    "colab": {
     "base_uri": "https://localhost:8080/",
     "height": 279
    },
    "executionInfo": {
     "elapsed": 1171,
     "status": "ok",
     "timestamp": 1619073894413,
     "user": {
      "displayName": "Sudha Arulmani",
      "photoUrl": "https://lh3.googleusercontent.com/a-/AOh14GhmEq56Sys_hPq7SL1T-PCfBrLQ2STecB40OsxN=s64",
      "userId": "11629712198186904901"
     },
     "user_tz": 420
    },
    "id": "Ig4ABERFRJ90",
    "outputId": "212f4b7b-dce5-4628-cb62-185591f458b7"
   },
   "outputs": [
    {
     "data": {
      "image/png": "[encoded data removed]",
      "text/plain": [
       "<Figure size 432x288 with 1 Axes>"
      ]
     },
     "metadata": {
      "needs_background": "light",
      "tags": []
     },
     "output_type": "display_data"
    }
   ],
   "source": [
    "learn.recorder.plot()"
   ]
  },
  {
   "cell_type": "markdown",
   "metadata": {
    "id": "sE9ip9QPgcwp"
   },
   "source": [
    "# Training model at varying learning rates"
   ]
  },
  {
   "cell_type": "code",
   "execution_count": 150,
   "metadata": {
    "colab": {
     "base_uri": "https://localhost:8080/",
     "height": 359
    },
    "executionInfo": {
     "elapsed": 629889,
     "status": "ok",
     "timestamp": 1619074538467,
     "user": {
      "displayName": "Sudha Arulmani",
      "photoUrl": "https://lh3.googleusercontent.com/a-/AOh14GhmEq56Sys_hPq7SL1T-PCfBrLQ2STecB40OsxN=s64",
      "userId": "11629712198186904901"
     },
     "user_tz": 420
    },
    "id": "ouq4U7eKRfSl",
    "outputId": "264178dc-3a50-41d3-ec57-fdc88be51ef0"
   },
   "outputs": [
    {
     "data": {
      "text/html": [
       "<table border=\"1\" class=\"dataframe\">\n",
       "  <thead>\n",
       "    <tr style=\"text-align: left;\">\n",
       "      <th>epoch</th>\n",
       "      <th>train_loss</th>\n",
       "      <th>valid_loss</th>\n",
       "      <th>time</th>\n",
       "    </tr>\n",
       "  </thead>\n",
       "  <tbody>\n",
       "    <tr>\n",
       "      <td>0</td>\n",
       "      <td>3.324477</td>\n",
       "      <td>3.311811</td>\n",
       "      <td>01:01</td>\n",
       "    </tr>\n",
       "    <tr>\n",
       "      <td>1</td>\n",
       "      <td>3.786097</td>\n",
       "      <td>3.737383</td>\n",
       "      <td>01:01</td>\n",
       "    </tr>\n",
       "    <tr>\n",
       "      <td>2</td>\n",
       "      <td>3.888122</td>\n",
       "      <td>3.888052</td>\n",
       "      <td>01:03</td>\n",
       "    </tr>\n",
       "    <tr>\n",
       "      <td>3</td>\n",
       "      <td>3.819660</td>\n",
       "      <td>3.835432</td>\n",
       "      <td>01:02</td>\n",
       "    </tr>\n",
       "    <tr>\n",
       "      <td>4</td>\n",
       "      <td>3.805123</td>\n",
       "      <td>3.819801</td>\n",
       "      <td>01:02</td>\n",
       "    </tr>\n",
       "    <tr>\n",
       "      <td>5</td>\n",
       "      <td>3.600463</td>\n",
       "      <td>3.647178</td>\n",
       "      <td>01:03</td>\n",
       "    </tr>\n",
       "    <tr>\n",
       "      <td>6</td>\n",
       "      <td>3.493538</td>\n",
       "      <td>3.450803</td>\n",
       "      <td>01:02</td>\n",
       "    </tr>\n",
       "    <tr>\n",
       "      <td>7</td>\n",
       "      <td>3.195612</td>\n",
       "      <td>3.226944</td>\n",
       "      <td>01:02</td>\n",
       "    </tr>\n",
       "    <tr>\n",
       "      <td>8</td>\n",
       "      <td>2.978666</td>\n",
       "      <td>2.926511</td>\n",
       "      <td>01:03</td>\n",
       "    </tr>\n",
       "    <tr>\n",
       "      <td>9</td>\n",
       "      <td>2.757120</td>\n",
       "      <td>2.768637</td>\n",
       "      <td>01:03</td>\n",
       "    </tr>\n",
       "  </tbody>\n",
       "</table>"
      ],
      "text/plain": [
       "<IPython.core.display.HTML object>"
      ]
     },
     "metadata": {
      "tags": []
     },
     "output_type": "display_data"
    }
   ],
   "source": [
    "learn.fit_one_cycle(10,1e-01)"
   ]
  },
  {
   "cell_type": "code",
   "execution_count": 151,
   "metadata": {
    "colab": {
     "base_uri": "https://localhost:8080/",
     "height": 359
    },
    "executionInfo": {
     "elapsed": 629859,
     "status": "ok",
     "timestamp": 1619075627972,
     "user": {
      "displayName": "Sudha Arulmani",
      "photoUrl": "https://lh3.googleusercontent.com/a-/AOh14GhmEq56Sys_hPq7SL1T-PCfBrLQ2STecB40OsxN=s64",
      "userId": "11629712198186904901"
     },
     "user_tz": 420
    },
    "id": "ZGSq6bAOWw8d",
    "outputId": "e9140b5d-7631-420d-ffd2-8375d304f3e4"
   },
   "outputs": [
    {
     "data": {
      "text/html": [
       "<table border=\"1\" class=\"dataframe\">\n",
       "  <thead>\n",
       "    <tr style=\"text-align: left;\">\n",
       "      <th>epoch</th>\n",
       "      <th>train_loss</th>\n",
       "      <th>valid_loss</th>\n",
       "      <th>time</th>\n",
       "    </tr>\n",
       "  </thead>\n",
       "  <tbody>\n",
       "    <tr>\n",
       "      <td>0</td>\n",
       "      <td>2.622258</td>\n",
       "      <td>2.764151</td>\n",
       "      <td>01:02</td>\n",
       "    </tr>\n",
       "    <tr>\n",
       "      <td>1</td>\n",
       "      <td>2.889707</td>\n",
       "      <td>2.946174</td>\n",
       "      <td>01:02</td>\n",
       "    </tr>\n",
       "    <tr>\n",
       "      <td>2</td>\n",
       "      <td>3.047098</td>\n",
       "      <td>3.042104</td>\n",
       "      <td>01:02</td>\n",
       "    </tr>\n",
       "    <tr>\n",
       "      <td>3</td>\n",
       "      <td>3.004565</td>\n",
       "      <td>3.020210</td>\n",
       "      <td>01:03</td>\n",
       "    </tr>\n",
       "    <tr>\n",
       "      <td>4</td>\n",
       "      <td>2.971971</td>\n",
       "      <td>2.985628</td>\n",
       "      <td>01:02</td>\n",
       "    </tr>\n",
       "    <tr>\n",
       "      <td>5</td>\n",
       "      <td>2.892124</td>\n",
       "      <td>2.925083</td>\n",
       "      <td>01:02</td>\n",
       "    </tr>\n",
       "    <tr>\n",
       "      <td>6</td>\n",
       "      <td>2.772724</td>\n",
       "      <td>2.832070</td>\n",
       "      <td>01:04</td>\n",
       "    </tr>\n",
       "    <tr>\n",
       "      <td>7</td>\n",
       "      <td>2.727005</td>\n",
       "      <td>2.748423</td>\n",
       "      <td>01:02</td>\n",
       "    </tr>\n",
       "    <tr>\n",
       "      <td>8</td>\n",
       "      <td>2.451635</td>\n",
       "      <td>2.699938</td>\n",
       "      <td>01:02</td>\n",
       "    </tr>\n",
       "    <tr>\n",
       "      <td>9</td>\n",
       "      <td>2.400562</td>\n",
       "      <td>2.695813</td>\n",
       "      <td>01:02</td>\n",
       "    </tr>\n",
       "  </tbody>\n",
       "</table>"
      ],
      "text/plain": [
       "<IPython.core.display.HTML object>"
      ]
     },
     "metadata": {
      "tags": []
     },
     "output_type": "display_data"
    }
   ],
   "source": [
    "learn.fit_one_cycle(10,1e-02)"
   ]
  },
  {
   "cell_type": "code",
   "execution_count": 152,
   "metadata": {
    "colab": {
     "base_uri": "https://localhost:8080/",
     "height": 359
    },
    "executionInfo": {
     "elapsed": 632209,
     "status": "ok",
     "timestamp": 1619076286503,
     "user": {
      "displayName": "Sudha Arulmani",
      "photoUrl": "https://lh3.googleusercontent.com/a-/AOh14GhmEq56Sys_hPq7SL1T-PCfBrLQ2STecB40OsxN=s64",
      "userId": "11629712198186904901"
     },
     "user_tz": 420
    },
    "id": "zPDf6D8JbcxS",
    "outputId": "2350c412-e95f-4fc0-cfda-d8be6ddf0088"
   },
   "outputs": [
    {
     "data": {
      "text/html": [
       "<table border=\"1\" class=\"dataframe\">\n",
       "  <thead>\n",
       "    <tr style=\"text-align: left;\">\n",
       "      <th>epoch</th>\n",
       "      <th>train_loss</th>\n",
       "      <th>valid_loss</th>\n",
       "      <th>time</th>\n",
       "    </tr>\n",
       "  </thead>\n",
       "  <tbody>\n",
       "    <tr>\n",
       "      <td>0</td>\n",
       "      <td>2.385047</td>\n",
       "      <td>2.693373</td>\n",
       "      <td>01:03</td>\n",
       "    </tr>\n",
       "    <tr>\n",
       "      <td>1</td>\n",
       "      <td>2.520957</td>\n",
       "      <td>2.697991</td>\n",
       "      <td>01:03</td>\n",
       "    </tr>\n",
       "    <tr>\n",
       "      <td>2</td>\n",
       "      <td>2.579107</td>\n",
       "      <td>2.704715</td>\n",
       "      <td>01:02</td>\n",
       "    </tr>\n",
       "    <tr>\n",
       "      <td>3</td>\n",
       "      <td>2.545903</td>\n",
       "      <td>2.706336</td>\n",
       "      <td>01:02</td>\n",
       "    </tr>\n",
       "    <tr>\n",
       "      <td>4</td>\n",
       "      <td>2.550836</td>\n",
       "      <td>2.704605</td>\n",
       "      <td>01:02</td>\n",
       "    </tr>\n",
       "    <tr>\n",
       "      <td>5</td>\n",
       "      <td>2.483751</td>\n",
       "      <td>2.700849</td>\n",
       "      <td>01:03</td>\n",
       "    </tr>\n",
       "    <tr>\n",
       "      <td>6</td>\n",
       "      <td>2.454971</td>\n",
       "      <td>2.696835</td>\n",
       "      <td>01:02</td>\n",
       "    </tr>\n",
       "    <tr>\n",
       "      <td>7</td>\n",
       "      <td>2.441570</td>\n",
       "      <td>2.693717</td>\n",
       "      <td>01:02</td>\n",
       "    </tr>\n",
       "    <tr>\n",
       "      <td>8</td>\n",
       "      <td>2.394270</td>\n",
       "      <td>2.692111</td>\n",
       "      <td>01:03</td>\n",
       "    </tr>\n",
       "    <tr>\n",
       "      <td>9</td>\n",
       "      <td>2.337664</td>\n",
       "      <td>2.691904</td>\n",
       "      <td>01:02</td>\n",
       "    </tr>\n",
       "  </tbody>\n",
       "</table>"
      ],
      "text/plain": [
       "<IPython.core.display.HTML object>"
      ]
     },
     "metadata": {
      "tags": []
     },
     "output_type": "display_data"
    }
   ],
   "source": [
    "learn.fit_one_cycle(10,1e-03)"
   ]
  },
  {
   "cell_type": "code",
   "execution_count": 153,
   "metadata": {
    "colab": {
     "base_uri": "https://localhost:8080/",
     "height": 359
    },
    "executionInfo": {
     "elapsed": 617143,
     "status": "ok",
     "timestamp": 1619077115702,
     "user": {
      "displayName": "Sudha Arulmani",
      "photoUrl": "https://lh3.googleusercontent.com/a-/AOh14GhmEq56Sys_hPq7SL1T-PCfBrLQ2STecB40OsxN=s64",
      "userId": "11629712198186904901"
     },
     "user_tz": 420
    },
    "id": "RTnGRb_CepTO",
    "outputId": "50e71c7f-766e-4efd-ce87-da3223567d17"
   },
   "outputs": [
    {
     "data": {
      "text/html": [
       "<table border=\"1\" class=\"dataframe\">\n",
       "  <thead>\n",
       "    <tr style=\"text-align: left;\">\n",
       "      <th>epoch</th>\n",
       "      <th>train_loss</th>\n",
       "      <th>valid_loss</th>\n",
       "      <th>time</th>\n",
       "    </tr>\n",
       "  </thead>\n",
       "  <tbody>\n",
       "    <tr>\n",
       "      <td>0</td>\n",
       "      <td>2.705813</td>\n",
       "      <td>2.743443</td>\n",
       "      <td>01:02</td>\n",
       "    </tr>\n",
       "    <tr>\n",
       "      <td>1</td>\n",
       "      <td>2.942821</td>\n",
       "      <td>2.947232</td>\n",
       "      <td>01:02</td>\n",
       "    </tr>\n",
       "    <tr>\n",
       "      <td>2</td>\n",
       "      <td>3.037440</td>\n",
       "      <td>3.025961</td>\n",
       "      <td>01:02</td>\n",
       "    </tr>\n",
       "    <tr>\n",
       "      <td>3</td>\n",
       "      <td>3.016320</td>\n",
       "      <td>3.026043</td>\n",
       "      <td>01:02</td>\n",
       "    </tr>\n",
       "    <tr>\n",
       "      <td>4</td>\n",
       "      <td>2.982670</td>\n",
       "      <td>2.993176</td>\n",
       "      <td>01:02</td>\n",
       "    </tr>\n",
       "    <tr>\n",
       "      <td>5</td>\n",
       "      <td>2.975138</td>\n",
       "      <td>2.924024</td>\n",
       "      <td>01:02</td>\n",
       "    </tr>\n",
       "    <tr>\n",
       "      <td>6</td>\n",
       "      <td>2.816633</td>\n",
       "      <td>2.834979</td>\n",
       "      <td>00:59</td>\n",
       "    </tr>\n",
       "    <tr>\n",
       "      <td>7</td>\n",
       "      <td>2.696000</td>\n",
       "      <td>2.747981</td>\n",
       "      <td>01:01</td>\n",
       "    </tr>\n",
       "    <tr>\n",
       "      <td>8</td>\n",
       "      <td>2.606560</td>\n",
       "      <td>2.700907</td>\n",
       "      <td>01:00</td>\n",
       "    </tr>\n",
       "    <tr>\n",
       "      <td>9</td>\n",
       "      <td>2.445771</td>\n",
       "      <td>2.697254</td>\n",
       "      <td>01:00</td>\n",
       "    </tr>\n",
       "  </tbody>\n",
       "</table>"
      ],
      "text/plain": [
       "<IPython.core.display.HTML object>"
      ]
     },
     "metadata": {
      "tags": []
     },
     "output_type": "display_data"
    }
   ],
   "source": [
    "learn.fit_one_cycle(10,1e-02)"
   ]
  },
  {
   "cell_type": "code",
   "execution_count": 154,
   "metadata": {
    "colab": {
     "base_uri": "https://localhost:8080/",
     "height": 359
    },
    "executionInfo": {
     "elapsed": 602930,
     "status": "ok",
     "timestamp": 1619077833734,
     "user": {
      "displayName": "Sudha Arulmani",
      "photoUrl": "https://lh3.googleusercontent.com/a-/AOh14GhmEq56Sys_hPq7SL1T-PCfBrLQ2STecB40OsxN=s64",
      "userId": "11629712198186904901"
     },
     "user_tz": 420
    },
    "id": "WWtYsZAwfuNn",
    "outputId": "65e4beb2-f088-49df-b528-69649095a463"
   },
   "outputs": [
    {
     "data": {
      "text/html": [
       "<table border=\"1\" class=\"dataframe\">\n",
       "  <thead>\n",
       "    <tr style=\"text-align: left;\">\n",
       "      <th>epoch</th>\n",
       "      <th>train_loss</th>\n",
       "      <th>valid_loss</th>\n",
       "      <th>time</th>\n",
       "    </tr>\n",
       "  </thead>\n",
       "  <tbody>\n",
       "    <tr>\n",
       "      <td>0</td>\n",
       "      <td>2.435818</td>\n",
       "      <td>2.695157</td>\n",
       "      <td>01:00</td>\n",
       "    </tr>\n",
       "    <tr>\n",
       "      <td>1</td>\n",
       "      <td>2.461407</td>\n",
       "      <td>2.700642</td>\n",
       "      <td>00:59</td>\n",
       "    </tr>\n",
       "    <tr>\n",
       "      <td>2</td>\n",
       "      <td>2.574409</td>\n",
       "      <td>2.709196</td>\n",
       "      <td>01:00</td>\n",
       "    </tr>\n",
       "    <tr>\n",
       "      <td>3</td>\n",
       "      <td>2.548074</td>\n",
       "      <td>2.709929</td>\n",
       "      <td>01:02</td>\n",
       "    </tr>\n",
       "    <tr>\n",
       "      <td>4</td>\n",
       "      <td>2.579520</td>\n",
       "      <td>2.707124</td>\n",
       "      <td>01:00</td>\n",
       "    </tr>\n",
       "    <tr>\n",
       "      <td>5</td>\n",
       "      <td>2.522844</td>\n",
       "      <td>2.704884</td>\n",
       "      <td>01:00</td>\n",
       "    </tr>\n",
       "    <tr>\n",
       "      <td>6</td>\n",
       "      <td>2.444254</td>\n",
       "      <td>2.700038</td>\n",
       "      <td>00:59</td>\n",
       "    </tr>\n",
       "    <tr>\n",
       "      <td>7</td>\n",
       "      <td>2.400984</td>\n",
       "      <td>2.697911</td>\n",
       "      <td>00:59</td>\n",
       "    </tr>\n",
       "    <tr>\n",
       "      <td>8</td>\n",
       "      <td>2.403448</td>\n",
       "      <td>2.696539</td>\n",
       "      <td>00:59</td>\n",
       "    </tr>\n",
       "    <tr>\n",
       "      <td>9</td>\n",
       "      <td>2.305120</td>\n",
       "      <td>2.696285</td>\n",
       "      <td>01:01</td>\n",
       "    </tr>\n",
       "  </tbody>\n",
       "</table>"
      ],
      "text/plain": [
       "<IPython.core.display.HTML object>"
      ]
     },
     "metadata": {
      "tags": []
     },
     "output_type": "display_data"
    }
   ],
   "source": [
    "learn.fit_one_cycle(10,1e-03)"
   ]
  },
  {
   "cell_type": "code",
   "execution_count": null,
   "metadata": {
    "id": "tW-Iy-A_g_IC"
   },
   "outputs": [],
   "source": [
    "# Save model"
   ]
  },
  {
   "cell_type": "code",
   "execution_count": 155,
   "metadata": {
    "colab": {
     "base_uri": "https://localhost:8080/"
    },
    "executionInfo": {
     "elapsed": 585,
     "status": "ok",
     "timestamp": 1619077892861,
     "user": {
      "displayName": "Sudha Arulmani",
      "photoUrl": "https://lh3.googleusercontent.com/a-/AOh14GhmEq56Sys_hPq7SL1T-PCfBrLQ2STecB40OsxN=s64",
      "userId": "11629712198186904901"
     },
     "user_tz": 420
    },
    "id": "Kiww0NjSUH9y",
    "outputId": "57e30c47-2570-4dbd-c34e-aab2e83e7cee"
   },
   "outputs": [
    {
     "data": {
      "text/plain": [
       "PosixPath('models/trained_model.pth')"
      ]
     },
     "execution_count": 155,
     "metadata": {
      "tags": []
     },
     "output_type": "execute_result"
    }
   ],
   "source": [
    "learn.save(\"trained_model\", return_path=True)"
   ]
  },
  {
   "cell_type": "code",
   "execution_count": 157,
   "metadata": {
    "colab": {
     "base_uri": "https://localhost:8080/"
    },
    "executionInfo": {
     "elapsed": 668,
     "status": "ok",
     "timestamp": 1619077912560,
     "user": {
      "displayName": "Sudha Arulmani",
      "photoUrl": "https://lh3.googleusercontent.com/a-/AOh14GhmEq56Sys_hPq7SL1T-PCfBrLQ2STecB40OsxN=s64",
      "userId": "11629712198186904901"
     },
     "user_tz": 420
    },
    "id": "olxIyO_D2tMz",
    "outputId": "31b4a237-f43e-4d5a-f5e6-f655e7e9a341"
   },
   "outputs": [
    {
     "name": "stdout",
     "output_type": "stream",
     "text": [
      "mv: cannot stat 'models/trained_model.pth': No such file or directory\n"
     ]
    }
   ],
   "source": [
    "!mv 'models/trained_model.pth' '/content/drive/MyDrive/CMPE_256-Prg_Ass1_014749488'"
   ]
  },
  {
   "cell_type": "markdown",
   "metadata": {
    "id": "kXUuqiszhCER"
   },
   "source": [
    "# Predict ratings"
   ]
  },
  {
   "cell_type": "code",
   "execution_count": 158,
   "metadata": {
    "executionInfo": {
     "elapsed": 1017,
     "status": "ok",
     "timestamp": 1619077915637,
     "user": {
      "displayName": "Sudha Arulmani",
      "photoUrl": "https://lh3.googleusercontent.com/a-/AOh14GhmEq56Sys_hPq7SL1T-PCfBrLQ2STecB40OsxN=s64",
      "userId": "11629712198186904901"
     },
     "user_tz": 420
    },
    "id": "cZY9TGJdU_3v"
   },
   "outputs": [],
   "source": [
    "test_data = pd.read_csv('input/test.csv',delimiter='\\t')"
   ]
  },
  {
   "cell_type": "code",
   "execution_count": 162,
   "metadata": {
    "executionInfo": {
     "elapsed": 2283,
     "status": "ok",
     "timestamp": 1619077984350,
     "user": {
      "displayName": "Sudha Arulmani",
      "photoUrl": "https://lh3.googleusercontent.com/a-/AOh14GhmEq56Sys_hPq7SL1T-PCfBrLQ2STecB40OsxN=s64",
      "userId": "11629712198186904901"
     },
     "user_tz": 420
    },
    "id": "5fs6vWYeEYVl"
   },
   "outputs": [],
   "source": [
    "data_collab = CollabDataBunch.from_df(data_reduced, test=test_data, seed=42, user_name='user_id', item_name='book_id', rating_name='rating')\n",
    "learn = collab_learner(data_collab, n_factors=40, y_range=(0, 5), wd=1e-1)\n",
    "learn_loaded = learn.load(Path('/content/drive/MyDrive/CMPE_256-Prg_Ass1_014749488/trained_model'))"
   ]
  },
  {
   "cell_type": "code",
   "execution_count": 163,
   "metadata": {
    "colab": {
     "base_uri": "https://localhost:8080/",
     "height": 17
    },
    "executionInfo": {
     "elapsed": 20474,
     "status": "ok",
     "timestamp": 1619078009461,
     "user": {
      "displayName": "Sudha Arulmani",
      "photoUrl": "https://lh3.googleusercontent.com/a-/AOh14GhmEq56Sys_hPq7SL1T-PCfBrLQ2STecB40OsxN=s64",
      "userId": "11629712198186904901"
     },
     "user_tz": 420
    },
    "id": "0i-YlyZfvudM",
    "outputId": "442e8e7e-278e-4716-b437-89b40768fee1"
   },
   "outputs": [
    {
     "data": {
      "text/html": [],
      "text/plain": [
       "<IPython.core.display.HTML object>"
      ]
     },
     "metadata": {
      "tags": []
     },
     "output_type": "display_data"
    }
   ],
   "source": [
    "preds, y = learn_loaded.get_preds(DatasetType.Test)"
   ]
  },
  {
   "cell_type": "code",
   "execution_count": 164,
   "metadata": {
    "colab": {
     "base_uri": "https://localhost:8080/"
    },
    "executionInfo": {
     "elapsed": 18565,
     "status": "ok",
     "timestamp": 1619078009463,
     "user": {
      "displayName": "Sudha Arulmani",
      "photoUrl": "https://lh3.googleusercontent.com/a-/AOh14GhmEq56Sys_hPq7SL1T-PCfBrLQ2STecB40OsxN=s64",
      "userId": "11629712198186904901"
     },
     "user_tz": 420
    },
    "id": "z4Qt_4wikb6q",
    "outputId": "48431bf0-baf7-4f3c-ec41-8efe41609b1b"
   },
   "outputs": [
    {
     "data": {
      "text/plain": [
       "torch.Size([299606])"
      ]
     },
     "execution_count": 164,
     "metadata": {
      "tags": []
     },
     "output_type": "execute_result"
    }
   ],
   "source": [
    "preds.shape"
   ]
  },
  {
   "cell_type": "code",
   "execution_count": 165,
   "metadata": {
    "executionInfo": {
     "elapsed": 15234,
     "status": "ok",
     "timestamp": 1619078009956,
     "user": {
      "displayName": "Sudha Arulmani",
      "photoUrl": "https://lh3.googleusercontent.com/a-/AOh14GhmEq56Sys_hPq7SL1T-PCfBrLQ2STecB40OsxN=s64",
      "userId": "11629712198186904901"
     },
     "user_tz": 420
    },
    "id": "tqyH5wMVj-C3"
   },
   "outputs": [],
   "source": [
    "sub = pd.read_csv('output/predictions-sgd-75.csv',index_col=False)"
   ]
  },
  {
   "cell_type": "code",
   "execution_count": 166,
   "metadata": {
    "colab": {
     "base_uri": "https://localhost:8080/",
     "height": 111
    },
    "executionInfo": {
     "elapsed": 14625,
     "status": "ok",
     "timestamp": 1619078009958,
     "user": {
      "displayName": "Sudha Arulmani",
      "photoUrl": "https://lh3.googleusercontent.com/a-/AOh14GhmEq56Sys_hPq7SL1T-PCfBrLQ2STecB40OsxN=s64",
      "userId": "11629712198186904901"
     },
     "user_tz": 420
    },
    "id": "I4YmamZVj6pB",
    "outputId": "f021fc80-c09a-4126-c8e1-8f958779040e"
   },
   "outputs": [
    {
     "data": {
      "text/html": [
       "<div>\n",
       "<style scoped>\n",
       "    .dataframe tbody tr th:only-of-type {\n",
       "        vertical-align: middle;\n",
       "    }\n",
       "\n",
       "    .dataframe tbody tr th {\n",
       "        vertical-align: top;\n",
       "    }\n",
       "\n",
       "    .dataframe thead th {\n",
       "        text-align: right;\n",
       "    }\n",
       "</style>\n",
       "<table border=\"1\" class=\"dataframe\">\n",
       "  <thead>\n",
       "    <tr style=\"text-align: right;\">\n",
       "      <th></th>\n",
       "      <th>user_id-book_id</th>\n",
       "      <th>rating</th>\n",
       "    </tr>\n",
       "  </thead>\n",
       "  <tbody>\n",
       "    <tr>\n",
       "      <th>0</th>\n",
       "      <td>20989-1832332</td>\n",
       "      <td>1.681057</td>\n",
       "    </tr>\n",
       "    <tr>\n",
       "      <th>1</th>\n",
       "      <td>37040-191139</td>\n",
       "      <td>3.639881</td>\n",
       "    </tr>\n",
       "  </tbody>\n",
       "</table>\n",
       "</div>"
      ],
      "text/plain": [
       "  user_id-book_id    rating\n",
       "0   20989-1832332  1.681057\n",
       "1    37040-191139  3.639881"
      ]
     },
     "execution_count": 166,
     "metadata": {
      "tags": []
     },
     "output_type": "execute_result"
    }
   ],
   "source": [
    "sub['rating'] = preds.tolist()\n",
    "sub.head(2)"
   ]
  },
  {
   "cell_type": "markdown",
   "metadata": {
    "id": "pE9YV2k8hGev"
   },
   "source": [
    "# Save predictions"
   ]
  },
  {
   "cell_type": "code",
   "execution_count": 167,
   "metadata": {
    "executionInfo": {
     "elapsed": 13671,
     "status": "ok",
     "timestamp": 1619078010209,
     "user": {
      "displayName": "Sudha Arulmani",
      "photoUrl": "https://lh3.googleusercontent.com/a-/AOh14GhmEq56Sys_hPq7SL1T-PCfBrLQ2STecB40OsxN=s64",
      "userId": "11629712198186904901"
     },
     "user_tz": 420
    },
    "id": "1C1D2-bpkgHn"
   },
   "outputs": [],
   "source": [
    "sub.to_csv(\"output/predictions_Fast_ai.csv\",index=False)"
   ]
  }
 ],
 "metadata": {
  "accelerator": "GPU",
  "colab": {
   "collapsed_sections": [
    "xKeacUXFgmC1",
    "OYrpY7IEgqCq",
    "Jv_vqAxWg1fq"
   ],
   "name": "4.2_Fastai_Book_Rating_Prediction.ipynb",
   "provenance": []
  },
  "kernelspec": {
   "display_name": "Python 3",
   "language": "python",
   "name": "python3"
  },
  "language_info": {
   "codemirror_mode": {
    "name": "ipython",
    "version": 3
   },
   "file_extension": ".py",
   "mimetype": "text/x-python",
   "name": "python",
   "nbconvert_exporter": "python",
   "pygments_lexer": "ipython3",
   "version": "3.8.5"
  }
 },
 "nbformat": 4,
 "nbformat_minor": 1
}
