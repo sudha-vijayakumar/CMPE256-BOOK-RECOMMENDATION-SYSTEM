{
 "cells": [
  {
   "cell_type": "code",
   "execution_count": null,
   "metadata": {
    "id": "OpnYgwfvm5kV"
   },
   "outputs": [],
   "source": [
    "import pandas as pd"
   ]
  },
  {
   "cell_type": "code",
   "execution_count": null,
   "metadata": {
    "colab": {
     "base_uri": "https://localhost:8080/"
    },
    "executionInfo": {
     "elapsed": 22886,
     "status": "ok",
     "timestamp": 1619078781965,
     "user": {
      "displayName": "Sudha Arulmani",
      "photoUrl": "https://lh3.googleusercontent.com/a-/AOh14GhmEq56Sys_hPq7SL1T-PCfBrLQ2STecB40OsxN=s64",
      "userId": "11629712198186904901"
     },
     "user_tz": 420
    },
    "id": "5CStSDFRnKLb",
    "outputId": "fdb4e778-dc12-490e-8dcd-757c69a658cf"
   },
   "outputs": [
    {
     "name": "stdout",
     "output_type": "stream",
     "text": [
      "Mounted at /content/gdrive\n"
     ]
    }
   ],
   "source": [
    "# from google.colab import drive\n",
    "# drive.mount('/content/gdrive')"
   ]
  },
  {
   "cell_type": "code",
   "execution_count": null,
   "metadata": {
    "colab": {
     "base_uri": "https://localhost:8080/"
    },
    "executionInfo": {
     "elapsed": 22880,
     "status": "ok",
     "timestamp": 1619078781966,
     "user": {
      "displayName": "Sudha Arulmani",
      "photoUrl": "https://lh3.googleusercontent.com/a-/AOh14GhmEq56Sys_hPq7SL1T-PCfBrLQ2STecB40OsxN=s64",
      "userId": "11629712198186904901"
     },
     "user_tz": 420
    },
    "id": "ITwun4OunM6m",
    "outputId": "7f550fcd-23a7-4c29-c49c-d2eafcfff12a"
   },
   "outputs": [
    {
     "name": "stdout",
     "output_type": "stream",
     "text": [
      "/content/gdrive/MyDrive/CMPE_256-Prg_Ass1_014749488\n"
     ]
    }
   ],
   "source": [
    "# cd '/content/gdrive/MyDrive/CMPE_256-Prg_Ass1_014749488'"
   ]
  },
  {
   "cell_type": "code",
   "execution_count": null,
   "metadata": {
    "id": "60U-1l4Pm7U2"
   },
   "outputs": [],
   "source": [
    "fastai = pd.read_csv('output/predictions_Fast_ai.csv',index_col=False)\n",
    "surprise_svd = pd.read_csv('output/predictions-svd-75.csv',index_col=False)"
   ]
  },
  {
   "cell_type": "code",
   "execution_count": null,
   "metadata": {
    "id": "LazxvHHsnaKa"
   },
   "outputs": [],
   "source": [
    "submission = pd.read_csv('output/predictions_Fast_ai.csv',index_col=False)"
   ]
  },
  {
   "cell_type": "code",
   "execution_count": null,
   "metadata": {
    "id": "2FZd07q5njKE"
   },
   "outputs": [],
   "source": [
    "submission['rating'] = (0.3 * fastai['rating']) + (0.7 * surprise_svd['rating'])"
   ]
  },
  {
   "cell_type": "code",
   "execution_count": null,
   "metadata": {
    "colab": {
     "base_uri": "https://localhost:8080/",
     "height": 111
    },
    "executionInfo": {
     "elapsed": 330,
     "status": "ok",
     "timestamp": 1619079008793,
     "user": {
      "displayName": "Sudha Arulmani",
      "photoUrl": "https://lh3.googleusercontent.com/a-/AOh14GhmEq56Sys_hPq7SL1T-PCfBrLQ2STecB40OsxN=s64",
      "userId": "11629712198186904901"
     },
     "user_tz": 420
    },
    "id": "b4TH-0sHnsm-",
    "outputId": "77c69ef3-e06c-4b19-bf58-57cb0850f1bb"
   },
   "outputs": [
    {
     "data": {
      "text/html": [
       "<div>\n",
       "<style scoped>\n",
       "    .dataframe tbody tr th:only-of-type {\n",
       "        vertical-align: middle;\n",
       "    }\n",
       "\n",
       "    .dataframe tbody tr th {\n",
       "        vertical-align: top;\n",
       "    }\n",
       "\n",
       "    .dataframe thead th {\n",
       "        text-align: right;\n",
       "    }\n",
       "</style>\n",
       "<table border=\"1\" class=\"dataframe\">\n",
       "  <thead>\n",
       "    <tr style=\"text-align: right;\">\n",
       "      <th></th>\n",
       "      <th>user_id-book_id</th>\n",
       "      <th>rating</th>\n",
       "    </tr>\n",
       "  </thead>\n",
       "  <tbody>\n",
       "    <tr>\n",
       "      <th>0</th>\n",
       "      <td>20989-1832332</td>\n",
       "      <td>1.044755</td>\n",
       "    </tr>\n",
       "    <tr>\n",
       "      <th>1</th>\n",
       "      <td>37040-191139</td>\n",
       "      <td>3.214288</td>\n",
       "    </tr>\n",
       "  </tbody>\n",
       "</table>\n",
       "</div>"
      ],
      "text/plain": [
       "  user_id-book_id    rating\n",
       "0   20989-1832332  1.044755\n",
       "1    37040-191139  3.214288"
      ]
     },
     "execution_count": 14,
     "metadata": {
      "tags": []
     },
     "output_type": "execute_result"
    }
   ],
   "source": [
    "submission.head(2)"
   ]
  },
  {
   "cell_type": "code",
   "execution_count": null,
   "metadata": {
    "id": "oREjymTonw1v"
   },
   "outputs": [],
   "source": [
    "submission.to_csv('output/final_submission.csv',index=False)"
   ]
  }
 ],
 "metadata": {
  "colab": {
   "authorship_tag": "ABX9TyNfZ/7AyI+/k/M4HWTCANnl",
   "collapsed_sections": [],
   "name": "6_submission.ipynb",
   "provenance": []
  },
  "kernelspec": {
   "display_name": "Python 3",
   "language": "python",
   "name": "python3"
  },
  "language_info": {
   "codemirror_mode": {
    "name": "ipython",
    "version": 3
   },
   "file_extension": ".py",
   "mimetype": "text/x-python",
   "name": "python",
   "nbconvert_exporter": "python",
   "pygments_lexer": "ipython3",
   "version": "3.8.5"
  }
 },
 "nbformat": 4,
 "nbformat_minor": 1
}
